{
 "cells": [
  {
   "cell_type": "code",
   "execution_count": 5,
   "metadata": {},
   "outputs": [
    {
     "name": "stdout",
     "output_type": "stream",
     "text": [
      "22\n",
      "1    34\n",
      "2    41\n",
      "dtype: int64\n",
      "27\n",
      "<class 'pandas.core.frame.DataFrame'>\n",
      "RangeIndex: 4 entries, 0 to 3\n",
      "Data columns (total 3 columns):\n",
      " #   Column  Non-Null Count  Dtype \n",
      "---  ------  --------------  ----- \n",
      " 0   name    4 non-null      object\n",
      " 1   email   4 non-null      object\n",
      " 2   grades  4 non-null      int64 \n",
      "dtypes: int64(1), object(2)\n",
      "memory usage: 128.0+ bytes\n",
      "None\n",
      "          grades\n",
      "count   4.000000\n",
      "mean   68.000000\n",
      "std    21.181753\n",
      "min    43.000000\n",
      "25%    55.750000\n",
      "50%    68.500000\n",
      "75%    80.750000\n",
      "max    92.000000\n"
     ]
    }
   ],
   "source": [
    "# 引入 pandas 套件，使用別名 pd 可以少打字\n",
    "import pandas as pd\n",
    "\n",
    "# 建立 Series 物件，傳入 list 當作參數\n",
    "series_1 = pd.Series([22, 34, 41, 3])\n",
    "\n",
    "print(series_1[0])\n",
    "print(series_1[1:3])\n",
    "\n",
    "# 建立 Series 物件並設定 index 索引\n",
    "grades = pd.Series([60, 27, 72, 53], index=['小郭', '小王', '小華', '小明'])\n",
    "\n",
    "print(grades['小王'])\n",
    "\n",
    "\n",
    "data = {\n",
    "    'name': ['王小郭', '張小華', '廖丁丁', '丁小光'],\n",
    "    'email': ['min@gmail.com', 'hchang@gmail.com', 'laioding@gmail.com', 'hsulight@gmail.com'],\n",
    "    'grades': [60, 77, 92, 43]\n",
    "}\n",
    "\n",
    "# 建立 DataFrame 物件\n",
    "student_df = pd.DataFrame(data)\n",
    "\n",
    "# 列出欄位資料型別等資訊\n",
    "print(student_df.info())\n",
    "# 列出統計資訊\n",
    "print(student_df.describe())"
   ]
  },
  {
   "cell_type": "code",
   "execution_count": null,
   "metadata": {},
   "outputs": [],
   "source": []
  }
 ],
 "metadata": {
  "kernelspec": {
   "display_name": "Python 3",
   "language": "python",
   "name": "python3"
  },
  "language_info": {
   "codemirror_mode": {
    "name": "ipython",
    "version": 3
   },
   "file_extension": ".py",
   "mimetype": "text/x-python",
   "name": "python",
   "nbconvert_exporter": "python",
   "pygments_lexer": "ipython3",
   "version": "3.8.1"
  }
 },
 "nbformat": 4,
 "nbformat_minor": 4
}
