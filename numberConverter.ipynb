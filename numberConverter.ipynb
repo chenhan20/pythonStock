{
 "metadata": {
  "language_info": {
   "codemirror_mode": {
    "name": "ipython",
    "version": 3
   },
   "file_extension": ".py",
   "mimetype": "text/x-python",
   "name": "python",
   "nbconvert_exporter": "python",
   "pygments_lexer": "ipython3",
   "version": "3.8.1-final"
  },
  "orig_nbformat": 2,
  "kernelspec": {
   "name": "python38132bitc430cdf2b3c64c419dcf21addb161082",
   "display_name": "Python 3.8.1 32-bit"
  }
 },
 "nbformat": 4,
 "nbformat_minor": 2,
 "cells": [
  {
   "cell_type": "code",
   "execution_count": 30,
   "metadata": {
    "tags": []
   },
   "outputs": [
    {
     "output_type": "stream",
     "name": "stdout",
     "text": "3136.95兆\n313.7億\n3136.95萬\n313.69萬\n-614.54萬\nTrue\n"
    }
   ],
   "source": [
    "number1 = 3136951231234456\t#三千兆\n",
    "number2 = 31369512346\t#三百億\n",
    "number3 = 31369512\t#三千萬\n",
    "number4 = 3136912\t#三百萬\n",
    "\n",
    "def converter(number):\n",
    "    numberLength = len(str(number))\n",
    "    converterNumber =number\n",
    "    if(numberLength > 12):\n",
    "        converterNumber = str(round(number / 1000000000000,2)) + '兆'\n",
    "    elif(numberLength > 8 and numberLength <= 12):\n",
    "        converterNumber = str(round(number / 100000000,2)) + '億'\n",
    "    elif(numberLength > 4 and numberLength <= 8):\n",
    "        converterNumber = str(round(number / 10000,2)) + '萬'\n",
    "    return converterNumber\n",
    "\n",
    "\n",
    "print(converter(number1))\n",
    "print(converter(number2))\n",
    "print(converter(number3))\n",
    "print(converter(number4))\n",
    "print(converter(int('-6145440')))\n",
    "print('-123123'.lstrip('-').isdigit())\n",
    "\n",
    "\n",
    "\n"
   ]
  }
 ]
}