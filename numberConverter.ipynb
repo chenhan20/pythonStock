{
 "cells": [
  {
   "cell_type": "code",
   "execution_count": 1,
   "metadata": {
    "tags": []
   },
   "outputs": [
    {
     "name": "stdout",
     "output_type": "stream",
     "text": [
      "0      NIO\n",
      "1       LI\n",
      "2      CCL\n",
      "3       GE\n",
      "4     XPEV\n",
      "5     AAPL\n",
      "6        F\n",
      "7     PLTR\n",
      "8      AAL\n",
      "9      BAC\n",
      "10    DKNG\n",
      "11    CSCO\n",
      "12     NOK\n",
      "13    PLUG\n",
      "14     PFE\n",
      "15    ITUB\n",
      "16     FSR\n",
      "17    VALE\n",
      "18    BABA\n",
      "19     BBD\n",
      "20    INTC\n",
      "21     AMD\n",
      "22     WFC\n",
      "23     PDD\n",
      "24     XOM\n",
      "25       T\n",
      "26     PBR\n",
      "27    ABEV\n",
      "28       M\n",
      "29    NCLH\n",
      "Name: Symbol, dtype: object\n"
     ]
    }
   ],
   "source": [
    "number1 = 3136951231234456\t#三千兆\n",
    "number2 = 31369512346\t#三百億\n",
    "number3 = 31369512\t#三千萬\n",
    "number4 = 3136912\t#三百萬\n",
    "\n",
    "import yfinance as yf\n",
    "import pandas as pd\n",
    "\n",
    "def converter(number):\n",
    "    numberLength = len(str(number))\n",
    "    converterNumber =number\n",
    "    if(numberLength > 12):\n",
    "        converterNumber = str(round(number / 1000000000000,2)) + '兆'\n",
    "    elif(numberLength > 8 and numberLength <= 12):\n",
    "        converterNumber = str(round(number / 100000000,2)) + '億'\n",
    "    elif(numberLength > 4 and numberLength <= 8):\n",
    "        converterNumber = str(round(number / 10000,2)) + '萬'\n",
    "    return converterNumber\n",
    "\n",
    "\n",
    "def getActivesStockList():\n",
    "    # 貼上連結\n",
    "    url = 'https://finance.yahoo.com/most-active?offset=0&count=30'\n",
    "    data = pd.read_html(url)[0]\n",
    "    stk_list = data.Symbol\n",
    "    print(stk_list)\n",
    "\n",
    "# print(converter(number1))\n",
    "# print(converter(number2))\n",
    "# print(converter(number3))\n",
    "# print(converter(number4))\n",
    "# print(converter(int('-6145440')))\n",
    "# print('-123123'.lstrip('-').isdigit())\n",
    "\n",
    "\n",
    "getActivesStockList()"
   ]
  },
  {
   "cell_type": "code",
   "execution_count": null,
   "metadata": {},
   "outputs": [],
   "source": []
  }
 ],
 "metadata": {
  "kernelspec": {
   "display_name": "Python 3.8.1 32-bit",
   "language": "python",
   "name": "python38132bitc430cdf2b3c64c419dcf21addb161082"
  },
  "language_info": {
   "codemirror_mode": {
    "name": "ipython",
    "version": 3
   },
   "file_extension": ".py",
   "mimetype": "text/x-python",
   "name": "python",
   "nbconvert_exporter": "python",
   "pygments_lexer": "ipython3",
   "version": "3.8.1"
  }
 },
 "nbformat": 4,
 "nbformat_minor": 4
}
