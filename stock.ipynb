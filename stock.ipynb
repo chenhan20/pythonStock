{
 "cells": [
  {
   "cell_type": "code",
   "execution_count": 3,
   "metadata": {},
   "outputs": [
    {
     "output_type": "display_data",
     "data": {
      "text/plain": "                     單位名稱  買進金額  賣出金額  買賣差額\n0            自營商(自行買賣)   24.41億   24.66億   -0.24億\n1                自營商(避險)   51.81億   52.64億   -0.84億\n2                        投信    31.7億   32.22億   -0.52億\n3  外資及陸資(不含外資自營商)  752.59億  601.59億  150.99億\n4                  外資自營商  1527.2萬  1377.2萬   150.0萬\n5                        合計  860.51億  711.12億  149.39億",
      "text/html": "<div>\n<style scoped>\n    .dataframe tbody tr th:only-of-type {\n        vertical-align: middle;\n    }\n\n    .dataframe tbody tr th {\n        vertical-align: top;\n    }\n\n    .dataframe thead th {\n        text-align: right;\n    }\n</style>\n<table border=\"1\" class=\"dataframe\">\n  <thead>\n    <tr style=\"text-align: right;\">\n      <th></th>\n      <th>單位名稱</th>\n      <th>買進金額</th>\n      <th>賣出金額</th>\n      <th>買賣差額</th>\n    </tr>\n  </thead>\n  <tbody>\n    <tr>\n      <th>0</th>\n      <td>自營商(自行買賣)</td>\n      <td>24.41億</td>\n      <td>24.66億</td>\n      <td>-0.24億</td>\n    </tr>\n    <tr>\n      <th>1</th>\n      <td>自營商(避險)</td>\n      <td>51.81億</td>\n      <td>52.64億</td>\n      <td>-0.84億</td>\n    </tr>\n    <tr>\n      <th>2</th>\n      <td>投信</td>\n      <td>31.7億</td>\n      <td>32.22億</td>\n      <td>-0.52億</td>\n    </tr>\n    <tr>\n      <th>3</th>\n      <td>外資及陸資(不含外資自營商)</td>\n      <td>752.59億</td>\n      <td>601.59億</td>\n      <td>150.99億</td>\n    </tr>\n    <tr>\n      <th>4</th>\n      <td>外資自營商</td>\n      <td>1527.2萬</td>\n      <td>1377.2萬</td>\n      <td>150.0萬</td>\n    </tr>\n    <tr>\n      <th>5</th>\n      <td>合計</td>\n      <td>860.51億</td>\n      <td>711.12億</td>\n      <td>149.39億</td>\n    </tr>\n  </tbody>\n</table>\n</div>"
     },
     "metadata": {}
    },
    {
     "output_type": "stream",
     "name": "stdout",
     "text": [
      "time：12.391288 秒\n"
     ]
    },
    {
     "output_type": "display_data",
     "data": {
      "text/plain": "         日期   成交股數  成交金額  開盤價  最高價  最低價  收盤價 漲跌價差  \\\n0        2330       None      None    None    None    None    None     None   \n1   109/11/02  3453.96萬  149.02億  433.00  435.50  428.00  435.50    +3.50   \n2   109/11/03  3146.17萬  138.52億  439.50  443.00  438.00  441.00    +5.50   \n3   109/11/04  3792.97萬   169.7億  444.50  451.50  443.00  450.00    +9.00   \n4   109/11/05  3653.94萬  164.05億  451.50  451.50  445.50  451.00    +1.00   \n5   109/11/06  3264.42萬  147.89億  455.00  455.50  450.00  452.50    +1.50   \n6   109/11/09  4341.57萬  198.65億  458.00  460.00  454.00  458.50    +6.00   \n7   109/11/10  3678.69萬   166.1億  452.00  454.50  448.50  451.00    -7.50   \n8   109/11/11  4035.58萬  183.27億  448.50  457.00  448.50  457.00    +6.00   \n9   109/11/12  5799.38萬   266.9億  463.00  463.50  457.50  458.00    +1.00   \n10  109/11/13  3148.39萬  144.79億  459.00  462.00  456.50  462.00    +4.00   \n11  109/11/16  8338.09萬  396.58億  470.00  484.50  469.00  484.00   +22.00   \n12  109/11/17  7576.39萬  374.46億  502.00  506.00  485.50  485.50    +1.50   \n13       2454       None      None    None    None    None    None     None   \n14  109/11/02  1403.99萬   93.36億  690.00  690.00  650.00  653.00   -25.00   \n15  109/11/03   827.95萬   55.24億  661.00  676.00  660.00  665.00   +12.00   \n16  109/11/04   931.01萬   62.74億  671.00  685.00  661.00  677.00   +12.00   \n17  109/11/05  1177.14萬   81.18億  685.00  696.00  679.00  696.00   +19.00   \n18  109/11/06   738.36萬   51.56億  701.00  704.00  692.00  700.00    +4.00   \n19  109/11/09   664.33萬   46.68億  710.00  714.00  693.00  702.00    +2.00   \n20  109/11/10    606.2萬   41.82億  702.00  702.00  681.00  686.00   -16.00   \n21  109/11/11   807.54萬   54.36億  662.00  682.00  662.00  676.00   -10.00   \n22  109/11/12    484.6萬   32.71億  677.00  683.00  671.00  673.00    -3.00   \n23  109/11/13    470.7萬   31.59億  671.00  677.00  667.00  675.00    +2.00   \n24  109/11/16   634.06萬   43.58億  685.00  695.00  681.00  694.00   +19.00   \n25  109/11/17   653.71萬   45.57億  701.00  703.00  691.00  696.00    +2.00   \n26       2337       None      None    None    None    None    None     None   \n27  109/11/02  3142.38萬    9.96億   32.30   32.50   31.40   31.40    -0.60   \n28  109/11/03  2754.21萬    8.76億   31.75   32.05   31.50   31.80    +0.40   \n29  109/11/04  2419.44萬    7.73億   32.10   32.20   31.65   32.00    +0.20   \n30  109/11/05  2152.75萬    6.84億   31.80   31.95   31.50   31.95    -0.05   \n31  109/11/06  2438.95萬    7.79億   32.20   32.35   31.65   31.70    -0.25   \n32  109/11/09  2372.19萬    7.57億   32.00   32.10   31.75   31.95    +0.25   \n33  109/11/10  2419.24萬    7.65億   31.95   32.00   31.40   31.50    -0.45   \n34  109/11/11  3387.33萬   10.55億   31.35   31.45   31.00   31.05    -0.45   \n35  109/11/12  2093.46萬    6.53億   31.25   31.45   31.00   31.15    +0.10   \n36  109/11/13  2252.46萬    6.97億   31.20   31.35   30.60   31.35    +0.20   \n37  109/11/16  6605.17萬    21.2億   31.70   32.35   31.55   32.25    +0.90   \n38  109/11/17     1.51億   49.98億   32.95   33.95   32.90   33.65    +1.40   \n39       2303       None      None    None    None    None    None     None   \n40  109/11/02     2.97億   89.13億   30.60   30.90   29.40   29.65    -1.05   \n41  109/11/03     1.62億   48.56億   30.20   30.50   29.80   29.80    +0.15   \n42  109/11/04     3.15億   97.85億   30.20   31.95   29.95   31.65    +1.85   \n43  109/11/05     2.12億   64.83億   30.65   30.80   30.20   30.55    -1.10   \n44  109/11/06     1.49億   45.58億   30.80   31.20   30.10   30.50    -0.05   \n45  109/11/09     1.97億   62.09億   31.20   31.90   31.20   31.80    +1.30   \n46  109/11/10     1.65億   51.82億   32.00   32.20   30.85   31.00    -0.80   \n47  109/11/11   9032.8萬   28.12億   30.80   31.45   30.75   31.00     0.00   \n48  109/11/12     1.16億   36.39億   31.35   31.90   31.05   31.10    +0.10   \n49  109/11/13  9011.91萬   28.04億   31.15   31.45   30.90   31.30    +0.20   \n50  109/11/16     1.84億   58.88億   31.80   32.25   31.75   32.20    +0.90   \n51  109/11/17     1.62億   52.65億   32.80   33.00   32.10   32.15    -0.05   \n\n   成交筆數  \n0      None  \n1    3.57萬  \n2     2.1萬  \n3    3.01萬  \n4    2.48萬  \n5     2.1萬  \n6    2.79萬  \n7     3.1萬  \n8    2.31萬  \n9     2.8萬  \n10   2.17萬  \n11   6.74萬  \n12   6.86萬  \n13     None  \n14   1.19萬  \n15   1.11萬  \n16     9508  \n17     9961  \n18     6770  \n19     5899  \n20     6312  \n21     7507  \n22     4385  \n23     3865  \n24     5967  \n25     5665  \n26     None  \n27   1.36萬  \n28     9257  \n29     8850  \n30     7414  \n31     8740  \n32     7700  \n33     8626  \n34   1.46萬  \n35     9879  \n36     9586  \n37   2.25萬  \n38   5.22萬  \n39     None  \n40   6.91萬  \n41   4.04萬  \n42   7.82萬  \n43   5.67萬  \n44   3.69萬  \n45   5.22萬  \n46   4.14萬  \n47   2.43萬  \n48   2.66萬  \n49   2.01萬  \n50   4.43萬  \n51   4.04萬  ",
      "text/html": "<div>\n<style scoped>\n    .dataframe tbody tr th:only-of-type {\n        vertical-align: middle;\n    }\n\n    .dataframe tbody tr th {\n        vertical-align: top;\n    }\n\n    .dataframe thead th {\n        text-align: right;\n    }\n</style>\n<table border=\"1\" class=\"dataframe\">\n  <thead>\n    <tr style=\"text-align: right;\">\n      <th></th>\n      <th>日期</th>\n      <th>成交股數</th>\n      <th>成交金額</th>\n      <th>開盤價</th>\n      <th>最高價</th>\n      <th>最低價</th>\n      <th>收盤價</th>\n      <th>漲跌價差</th>\n      <th>成交筆數</th>\n    </tr>\n  </thead>\n  <tbody>\n    <tr>\n      <th>0</th>\n      <td>2330</td>\n      <td>None</td>\n      <td>None</td>\n      <td>None</td>\n      <td>None</td>\n      <td>None</td>\n      <td>None</td>\n      <td>None</td>\n      <td>None</td>\n    </tr>\n    <tr>\n      <th>1</th>\n      <td>109/11/02</td>\n      <td>3453.96萬</td>\n      <td>149.02億</td>\n      <td>433.00</td>\n      <td>435.50</td>\n      <td>428.00</td>\n      <td>435.50</td>\n      <td>+3.50</td>\n      <td>3.57萬</td>\n    </tr>\n    <tr>\n      <th>2</th>\n      <td>109/11/03</td>\n      <td>3146.17萬</td>\n      <td>138.52億</td>\n      <td>439.50</td>\n      <td>443.00</td>\n      <td>438.00</td>\n      <td>441.00</td>\n      <td>+5.50</td>\n      <td>2.1萬</td>\n    </tr>\n    <tr>\n      <th>3</th>\n      <td>109/11/04</td>\n      <td>3792.97萬</td>\n      <td>169.7億</td>\n      <td>444.50</td>\n      <td>451.50</td>\n      <td>443.00</td>\n      <td>450.00</td>\n      <td>+9.00</td>\n      <td>3.01萬</td>\n    </tr>\n    <tr>\n      <th>4</th>\n      <td>109/11/05</td>\n      <td>3653.94萬</td>\n      <td>164.05億</td>\n      <td>451.50</td>\n      <td>451.50</td>\n      <td>445.50</td>\n      <td>451.00</td>\n      <td>+1.00</td>\n      <td>2.48萬</td>\n    </tr>\n    <tr>\n      <th>5</th>\n      <td>109/11/06</td>\n      <td>3264.42萬</td>\n      <td>147.89億</td>\n      <td>455.00</td>\n      <td>455.50</td>\n      <td>450.00</td>\n      <td>452.50</td>\n      <td>+1.50</td>\n      <td>2.1萬</td>\n    </tr>\n    <tr>\n      <th>6</th>\n      <td>109/11/09</td>\n      <td>4341.57萬</td>\n      <td>198.65億</td>\n      <td>458.00</td>\n      <td>460.00</td>\n      <td>454.00</td>\n      <td>458.50</td>\n      <td>+6.00</td>\n      <td>2.79萬</td>\n    </tr>\n    <tr>\n      <th>7</th>\n      <td>109/11/10</td>\n      <td>3678.69萬</td>\n      <td>166.1億</td>\n      <td>452.00</td>\n      <td>454.50</td>\n      <td>448.50</td>\n      <td>451.00</td>\n      <td>-7.50</td>\n      <td>3.1萬</td>\n    </tr>\n    <tr>\n      <th>8</th>\n      <td>109/11/11</td>\n      <td>4035.58萬</td>\n      <td>183.27億</td>\n      <td>448.50</td>\n      <td>457.00</td>\n      <td>448.50</td>\n      <td>457.00</td>\n      <td>+6.00</td>\n      <td>2.31萬</td>\n    </tr>\n    <tr>\n      <th>9</th>\n      <td>109/11/12</td>\n      <td>5799.38萬</td>\n      <td>266.9億</td>\n      <td>463.00</td>\n      <td>463.50</td>\n      <td>457.50</td>\n      <td>458.00</td>\n      <td>+1.00</td>\n      <td>2.8萬</td>\n    </tr>\n    <tr>\n      <th>10</th>\n      <td>109/11/13</td>\n      <td>3148.39萬</td>\n      <td>144.79億</td>\n      <td>459.00</td>\n      <td>462.00</td>\n      <td>456.50</td>\n      <td>462.00</td>\n      <td>+4.00</td>\n      <td>2.17萬</td>\n    </tr>\n    <tr>\n      <th>11</th>\n      <td>109/11/16</td>\n      <td>8338.09萬</td>\n      <td>396.58億</td>\n      <td>470.00</td>\n      <td>484.50</td>\n      <td>469.00</td>\n      <td>484.00</td>\n      <td>+22.00</td>\n      <td>6.74萬</td>\n    </tr>\n    <tr>\n      <th>12</th>\n      <td>109/11/17</td>\n      <td>7576.39萬</td>\n      <td>374.46億</td>\n      <td>502.00</td>\n      <td>506.00</td>\n      <td>485.50</td>\n      <td>485.50</td>\n      <td>+1.50</td>\n      <td>6.86萬</td>\n    </tr>\n    <tr>\n      <th>13</th>\n      <td>2454</td>\n      <td>None</td>\n      <td>None</td>\n      <td>None</td>\n      <td>None</td>\n      <td>None</td>\n      <td>None</td>\n      <td>None</td>\n      <td>None</td>\n    </tr>\n    <tr>\n      <th>14</th>\n      <td>109/11/02</td>\n      <td>1403.99萬</td>\n      <td>93.36億</td>\n      <td>690.00</td>\n      <td>690.00</td>\n      <td>650.00</td>\n      <td>653.00</td>\n      <td>-25.00</td>\n      <td>1.19萬</td>\n    </tr>\n    <tr>\n      <th>15</th>\n      <td>109/11/03</td>\n      <td>827.95萬</td>\n      <td>55.24億</td>\n      <td>661.00</td>\n      <td>676.00</td>\n      <td>660.00</td>\n      <td>665.00</td>\n      <td>+12.00</td>\n      <td>1.11萬</td>\n    </tr>\n    <tr>\n      <th>16</th>\n      <td>109/11/04</td>\n      <td>931.01萬</td>\n      <td>62.74億</td>\n      <td>671.00</td>\n      <td>685.00</td>\n      <td>661.00</td>\n      <td>677.00</td>\n      <td>+12.00</td>\n      <td>9508</td>\n    </tr>\n    <tr>\n      <th>17</th>\n      <td>109/11/05</td>\n      <td>1177.14萬</td>\n      <td>81.18億</td>\n      <td>685.00</td>\n      <td>696.00</td>\n      <td>679.00</td>\n      <td>696.00</td>\n      <td>+19.00</td>\n      <td>9961</td>\n    </tr>\n    <tr>\n      <th>18</th>\n      <td>109/11/06</td>\n      <td>738.36萬</td>\n      <td>51.56億</td>\n      <td>701.00</td>\n      <td>704.00</td>\n      <td>692.00</td>\n      <td>700.00</td>\n      <td>+4.00</td>\n      <td>6770</td>\n    </tr>\n    <tr>\n      <th>19</th>\n      <td>109/11/09</td>\n      <td>664.33萬</td>\n      <td>46.68億</td>\n      <td>710.00</td>\n      <td>714.00</td>\n      <td>693.00</td>\n      <td>702.00</td>\n      <td>+2.00</td>\n      <td>5899</td>\n    </tr>\n    <tr>\n      <th>20</th>\n      <td>109/11/10</td>\n      <td>606.2萬</td>\n      <td>41.82億</td>\n      <td>702.00</td>\n      <td>702.00</td>\n      <td>681.00</td>\n      <td>686.00</td>\n      <td>-16.00</td>\n      <td>6312</td>\n    </tr>\n    <tr>\n      <th>21</th>\n      <td>109/11/11</td>\n      <td>807.54萬</td>\n      <td>54.36億</td>\n      <td>662.00</td>\n      <td>682.00</td>\n      <td>662.00</td>\n      <td>676.00</td>\n      <td>-10.00</td>\n      <td>7507</td>\n    </tr>\n    <tr>\n      <th>22</th>\n      <td>109/11/12</td>\n      <td>484.6萬</td>\n      <td>32.71億</td>\n      <td>677.00</td>\n      <td>683.00</td>\n      <td>671.00</td>\n      <td>673.00</td>\n      <td>-3.00</td>\n      <td>4385</td>\n    </tr>\n    <tr>\n      <th>23</th>\n      <td>109/11/13</td>\n      <td>470.7萬</td>\n      <td>31.59億</td>\n      <td>671.00</td>\n      <td>677.00</td>\n      <td>667.00</td>\n      <td>675.00</td>\n      <td>+2.00</td>\n      <td>3865</td>\n    </tr>\n    <tr>\n      <th>24</th>\n      <td>109/11/16</td>\n      <td>634.06萬</td>\n      <td>43.58億</td>\n      <td>685.00</td>\n      <td>695.00</td>\n      <td>681.00</td>\n      <td>694.00</td>\n      <td>+19.00</td>\n      <td>5967</td>\n    </tr>\n    <tr>\n      <th>25</th>\n      <td>109/11/17</td>\n      <td>653.71萬</td>\n      <td>45.57億</td>\n      <td>701.00</td>\n      <td>703.00</td>\n      <td>691.00</td>\n      <td>696.00</td>\n      <td>+2.00</td>\n      <td>5665</td>\n    </tr>\n    <tr>\n      <th>26</th>\n      <td>2337</td>\n      <td>None</td>\n      <td>None</td>\n      <td>None</td>\n      <td>None</td>\n      <td>None</td>\n      <td>None</td>\n      <td>None</td>\n      <td>None</td>\n    </tr>\n    <tr>\n      <th>27</th>\n      <td>109/11/02</td>\n      <td>3142.38萬</td>\n      <td>9.96億</td>\n      <td>32.30</td>\n      <td>32.50</td>\n      <td>31.40</td>\n      <td>31.40</td>\n      <td>-0.60</td>\n      <td>1.36萬</td>\n    </tr>\n    <tr>\n      <th>28</th>\n      <td>109/11/03</td>\n      <td>2754.21萬</td>\n      <td>8.76億</td>\n      <td>31.75</td>\n      <td>32.05</td>\n      <td>31.50</td>\n      <td>31.80</td>\n      <td>+0.40</td>\n      <td>9257</td>\n    </tr>\n    <tr>\n      <th>29</th>\n      <td>109/11/04</td>\n      <td>2419.44萬</td>\n      <td>7.73億</td>\n      <td>32.10</td>\n      <td>32.20</td>\n      <td>31.65</td>\n      <td>32.00</td>\n      <td>+0.20</td>\n      <td>8850</td>\n    </tr>\n    <tr>\n      <th>30</th>\n      <td>109/11/05</td>\n      <td>2152.75萬</td>\n      <td>6.84億</td>\n      <td>31.80</td>\n      <td>31.95</td>\n      <td>31.50</td>\n      <td>31.95</td>\n      <td>-0.05</td>\n      <td>7414</td>\n    </tr>\n    <tr>\n      <th>31</th>\n      <td>109/11/06</td>\n      <td>2438.95萬</td>\n      <td>7.79億</td>\n      <td>32.20</td>\n      <td>32.35</td>\n      <td>31.65</td>\n      <td>31.70</td>\n      <td>-0.25</td>\n      <td>8740</td>\n    </tr>\n    <tr>\n      <th>32</th>\n      <td>109/11/09</td>\n      <td>2372.19萬</td>\n      <td>7.57億</td>\n      <td>32.00</td>\n      <td>32.10</td>\n      <td>31.75</td>\n      <td>31.95</td>\n      <td>+0.25</td>\n      <td>7700</td>\n    </tr>\n    <tr>\n      <th>33</th>\n      <td>109/11/10</td>\n      <td>2419.24萬</td>\n      <td>7.65億</td>\n      <td>31.95</td>\n      <td>32.00</td>\n      <td>31.40</td>\n      <td>31.50</td>\n      <td>-0.45</td>\n      <td>8626</td>\n    </tr>\n    <tr>\n      <th>34</th>\n      <td>109/11/11</td>\n      <td>3387.33萬</td>\n      <td>10.55億</td>\n      <td>31.35</td>\n      <td>31.45</td>\n      <td>31.00</td>\n      <td>31.05</td>\n      <td>-0.45</td>\n      <td>1.46萬</td>\n    </tr>\n    <tr>\n      <th>35</th>\n      <td>109/11/12</td>\n      <td>2093.46萬</td>\n      <td>6.53億</td>\n      <td>31.25</td>\n      <td>31.45</td>\n      <td>31.00</td>\n      <td>31.15</td>\n      <td>+0.10</td>\n      <td>9879</td>\n    </tr>\n    <tr>\n      <th>36</th>\n      <td>109/11/13</td>\n      <td>2252.46萬</td>\n      <td>6.97億</td>\n      <td>31.20</td>\n      <td>31.35</td>\n      <td>30.60</td>\n      <td>31.35</td>\n      <td>+0.20</td>\n      <td>9586</td>\n    </tr>\n    <tr>\n      <th>37</th>\n      <td>109/11/16</td>\n      <td>6605.17萬</td>\n      <td>21.2億</td>\n      <td>31.70</td>\n      <td>32.35</td>\n      <td>31.55</td>\n      <td>32.25</td>\n      <td>+0.90</td>\n      <td>2.25萬</td>\n    </tr>\n    <tr>\n      <th>38</th>\n      <td>109/11/17</td>\n      <td>1.51億</td>\n      <td>49.98億</td>\n      <td>32.95</td>\n      <td>33.95</td>\n      <td>32.90</td>\n      <td>33.65</td>\n      <td>+1.40</td>\n      <td>5.22萬</td>\n    </tr>\n    <tr>\n      <th>39</th>\n      <td>2303</td>\n      <td>None</td>\n      <td>None</td>\n      <td>None</td>\n      <td>None</td>\n      <td>None</td>\n      <td>None</td>\n      <td>None</td>\n      <td>None</td>\n    </tr>\n    <tr>\n      <th>40</th>\n      <td>109/11/02</td>\n      <td>2.97億</td>\n      <td>89.13億</td>\n      <td>30.60</td>\n      <td>30.90</td>\n      <td>29.40</td>\n      <td>29.65</td>\n      <td>-1.05</td>\n      <td>6.91萬</td>\n    </tr>\n    <tr>\n      <th>41</th>\n      <td>109/11/03</td>\n      <td>1.62億</td>\n      <td>48.56億</td>\n      <td>30.20</td>\n      <td>30.50</td>\n      <td>29.80</td>\n      <td>29.80</td>\n      <td>+0.15</td>\n      <td>4.04萬</td>\n    </tr>\n    <tr>\n      <th>42</th>\n      <td>109/11/04</td>\n      <td>3.15億</td>\n      <td>97.85億</td>\n      <td>30.20</td>\n      <td>31.95</td>\n      <td>29.95</td>\n      <td>31.65</td>\n      <td>+1.85</td>\n      <td>7.82萬</td>\n    </tr>\n    <tr>\n      <th>43</th>\n      <td>109/11/05</td>\n      <td>2.12億</td>\n      <td>64.83億</td>\n      <td>30.65</td>\n      <td>30.80</td>\n      <td>30.20</td>\n      <td>30.55</td>\n      <td>-1.10</td>\n      <td>5.67萬</td>\n    </tr>\n    <tr>\n      <th>44</th>\n      <td>109/11/06</td>\n      <td>1.49億</td>\n      <td>45.58億</td>\n      <td>30.80</td>\n      <td>31.20</td>\n      <td>30.10</td>\n      <td>30.50</td>\n      <td>-0.05</td>\n      <td>3.69萬</td>\n    </tr>\n    <tr>\n      <th>45</th>\n      <td>109/11/09</td>\n      <td>1.97億</td>\n      <td>62.09億</td>\n      <td>31.20</td>\n      <td>31.90</td>\n      <td>31.20</td>\n      <td>31.80</td>\n      <td>+1.30</td>\n      <td>5.22萬</td>\n    </tr>\n    <tr>\n      <th>46</th>\n      <td>109/11/10</td>\n      <td>1.65億</td>\n      <td>51.82億</td>\n      <td>32.00</td>\n      <td>32.20</td>\n      <td>30.85</td>\n      <td>31.00</td>\n      <td>-0.80</td>\n      <td>4.14萬</td>\n    </tr>\n    <tr>\n      <th>47</th>\n      <td>109/11/11</td>\n      <td>9032.8萬</td>\n      <td>28.12億</td>\n      <td>30.80</td>\n      <td>31.45</td>\n      <td>30.75</td>\n      <td>31.00</td>\n      <td>0.00</td>\n      <td>2.43萬</td>\n    </tr>\n    <tr>\n      <th>48</th>\n      <td>109/11/12</td>\n      <td>1.16億</td>\n      <td>36.39億</td>\n      <td>31.35</td>\n      <td>31.90</td>\n      <td>31.05</td>\n      <td>31.10</td>\n      <td>+0.10</td>\n      <td>2.66萬</td>\n    </tr>\n    <tr>\n      <th>49</th>\n      <td>109/11/13</td>\n      <td>9011.91萬</td>\n      <td>28.04億</td>\n      <td>31.15</td>\n      <td>31.45</td>\n      <td>30.90</td>\n      <td>31.30</td>\n      <td>+0.20</td>\n      <td>2.01萬</td>\n    </tr>\n    <tr>\n      <th>50</th>\n      <td>109/11/16</td>\n      <td>1.84億</td>\n      <td>58.88億</td>\n      <td>31.80</td>\n      <td>32.25</td>\n      <td>31.75</td>\n      <td>32.20</td>\n      <td>+0.90</td>\n      <td>4.43萬</td>\n    </tr>\n    <tr>\n      <th>51</th>\n      <td>109/11/17</td>\n      <td>1.62億</td>\n      <td>52.65億</td>\n      <td>32.80</td>\n      <td>33.00</td>\n      <td>32.10</td>\n      <td>32.15</td>\n      <td>-0.05</td>\n      <td>4.04萬</td>\n    </tr>\n  </tbody>\n</table>\n</div>"
     },
     "metadata": {}
    }
   ],
   "source": [
    "import getStockThree as three\n",
    "import datetime\n",
    "import time\n",
    "import pandas as pd\n",
    "\n",
    "now = datetime.datetime.now()\n",
    "\n",
    "def getNewThree():\n",
    "    fail = True\n",
    "    date = now\n",
    "    while fail:\n",
    "        dateStr=date.strftime(\"%Y%m%d\")\n",
    "        threeList = three.getThree(dateStr)\n",
    "        if(len(threeList['data'])!=0):\n",
    "            df = pd.DataFrame(threeList['data'],columns=threeList['fields'])\n",
    "            df.style.set_properties(**{'text-align': 'right'})\n",
    "            pd.set_option('display.unicode.ambiguous_as_wide', True)\n",
    "            pd.set_option('display.unicode.east_asian_width', True)\n",
    "            fail = False\n",
    "            return df\n",
    "#             print(df)\n",
    "        else:\n",
    "            print(dateStr + '抓取失敗')\n",
    "            time.sleep(3) # 五秒內只能call三次 否則會被鎖\n",
    "            date = date - datetime.timedelta(days=1)\n",
    "\n",
    "def getStockDetail():\n",
    "    stockNumList = ['2330','2454','2337','2303']\n",
    "    stockList = []\n",
    "    tStart = time.time()#計時開始\n",
    "    for stockNum in stockNumList:\n",
    "        stockData = three.getThreeBuyDetail(now, stockNum)\n",
    "        stockList.extend([[stockNum]])\n",
    "        stockList.extend(stockData['data'])\n",
    "        fields=stockData['fields']\n",
    "        time.sleep(3) # 五秒內只能call三次 否則會被鎖\n",
    "\n",
    "\n",
    "    df = pd.DataFrame(stockList,columns=fields)\n",
    "    df.style.set_properties(**{'text-align': 'right'})\n",
    "    pd.set_option('display.unicode.ambiguous_as_wide', True)\n",
    "    pd.set_option('display.unicode.east_asian_width', True)\n",
    "\n",
    "    print(\"time：%f 秒\" % (time.time() - tStart))\n",
    "    return df\n",
    "\n",
    "def main():\n",
    "    display(getNewThree())        \n",
    "    display(getStockDetail())        \n",
    "\n",
    "\n",
    "main()"
   ]
  },
  {
   "cell_type": "code",
   "execution_count": null,
   "metadata": {},
   "outputs": [],
   "source": []
  }
 ],
 "metadata": {
  "kernelspec": {
   "name": "python3",
   "display_name": "Python 3.8.1 32-bit",
   "metadata": {
    "interpreter": {
     "hash": "c9ba0c4a5af8269c496dad2a440da0741b8e4cd992915eed58c521d280844af4"
    }
   }
  },
  "language_info": {
   "codemirror_mode": {
    "name": "ipython",
    "version": 3
   },
   "file_extension": ".py",
   "mimetype": "text/x-python",
   "name": "python",
   "nbconvert_exporter": "python",
   "pygments_lexer": "ipython3",
   "version": "3.8.1-final"
  }
 },
 "nbformat": 4,
 "nbformat_minor": 4
}