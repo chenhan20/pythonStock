{
 "cells": [
  {
   "cell_type": "code",
   "execution_count": 1,
   "metadata": {},
   "outputs": [
    {
     "output_type": "execute_result",
     "data": {
      "text/plain": [
       "                     單位名稱  買進金額  賣出金額  買賣差額\n",
       "0            自營商(自行買賣)   24.41億   24.66億   -0.24億\n",
       "1                自營商(避險)   51.81億   52.64億   -0.84億\n",
       "2                        投信    31.7億   32.22億   -0.52億\n",
       "3  外資及陸資(不含外資自營商)  752.59億  601.59億  150.99億\n",
       "4                  外資自營商  1527.2萬  1377.2萬   150.0萬\n",
       "5                        合計  860.51億  711.12億  149.39億"
      ],
      "text/html": "<div>\n<style scoped>\n    .dataframe tbody tr th:only-of-type {\n        vertical-align: middle;\n    }\n\n    .dataframe tbody tr th {\n        vertical-align: top;\n    }\n\n    .dataframe thead th {\n        text-align: right;\n    }\n</style>\n<table border=\"1\" class=\"dataframe\">\n  <thead>\n    <tr style=\"text-align: right;\">\n      <th></th>\n      <th>單位名稱</th>\n      <th>買進金額</th>\n      <th>賣出金額</th>\n      <th>買賣差額</th>\n    </tr>\n  </thead>\n  <tbody>\n    <tr>\n      <th>0</th>\n      <td>自營商(自行買賣)</td>\n      <td>24.41億</td>\n      <td>24.66億</td>\n      <td>-0.24億</td>\n    </tr>\n    <tr>\n      <th>1</th>\n      <td>自營商(避險)</td>\n      <td>51.81億</td>\n      <td>52.64億</td>\n      <td>-0.84億</td>\n    </tr>\n    <tr>\n      <th>2</th>\n      <td>投信</td>\n      <td>31.7億</td>\n      <td>32.22億</td>\n      <td>-0.52億</td>\n    </tr>\n    <tr>\n      <th>3</th>\n      <td>外資及陸資(不含外資自營商)</td>\n      <td>752.59億</td>\n      <td>601.59億</td>\n      <td>150.99億</td>\n    </tr>\n    <tr>\n      <th>4</th>\n      <td>外資自營商</td>\n      <td>1527.2萬</td>\n      <td>1377.2萬</td>\n      <td>150.0萬</td>\n    </tr>\n    <tr>\n      <th>5</th>\n      <td>合計</td>\n      <td>860.51億</td>\n      <td>711.12億</td>\n      <td>149.39億</td>\n    </tr>\n  </tbody>\n</table>\n</div>"
     },
     "metadata": {},
     "execution_count": 1
    }
   ],
   "source": [
    "import getStockThree as three\n",
    "import datetime\n",
    "import time\n",
    "import pandas as pd\n",
    "\n",
    "now = datetime.datetime.now()\n",
    "\n",
    "def getNewThree():\n",
    "    fail = True\n",
    "    date = now\n",
    "    while fail:\n",
    "        dateStr=date.strftime(\"%Y%m%d\")\n",
    "        threeList = three.getThree(dateStr)\n",
    "        if(len(threeList['data'])!=0):\n",
    "            df = pd.DataFrame(threeList['data'],columns=threeList['fields'])\n",
    "            df.style.set_properties(**{'text-align': 'right'})\n",
    "            pd.set_option('display.unicode.ambiguous_as_wide', True)\n",
    "            pd.set_option('display.unicode.east_asian_width', True)\n",
    "            fail = False\n",
    "            return df\n",
    "#             print(df)\n",
    "        else:\n",
    "            print(dateStr + '抓取失敗')\n",
    "            time.sleep(3) # 五秒內只能call三次 否則會被鎖\n",
    "            date = date - datetime.timedelta(days=1)\n",
    "\n",
    "def getStockDetail():\n",
    "    stockNumList = ['2330','2454','2337','2303']\n",
    "    stockList = []\n",
    "    tStart = time.time()#計時開始\n",
    "    for stockNum in stockNumList:\n",
    "        stockData = three.getThreeBuyDetail(now, stockNum)\n",
    "        stockList.extend([[stockNum]])\n",
    "        stockList.extend(stockData['data'])\n",
    "        fields=stockData['fields']\n",
    "        time.sleep(3) # 五秒內只能call三次 否則會被鎖\n",
    "\n",
    "\n",
    "    df = pd.DataFrame(stockList,columns=fields)\n",
    "    df.style.set_properties(**{'text-align': 'right'})\n",
    "    pd.set_option('display.unicode.ambiguous_as_wide', True)\n",
    "    pd.set_option('display.unicode.east_asian_width', True)\n",
    "\n",
    "    print(\"time：%f 秒\" % (time.time() - tStart))\n",
    "    return df\n",
    "\n",
    "def main():\n",
    "    \n",
    "    return getNewThree()        \n",
    "    # return getStockDetail()\n",
    "\n",
    "\n",
    "main()"
   ]
  },
  {
   "cell_type": "code",
   "execution_count": null,
   "metadata": {},
   "outputs": [],
   "source": []
  }
 ],
 "metadata": {
  "kernelspec": {
   "name": "python3",
   "display_name": "Python 3.8.1 32-bit",
   "metadata": {
    "interpreter": {
     "hash": "c9ba0c4a5af8269c496dad2a440da0741b8e4cd992915eed58c521d280844af4"
    }
   }
  },
  "language_info": {
   "codemirror_mode": {
    "name": "ipython",
    "version": 3
   },
   "file_extension": ".py",
   "mimetype": "text/x-python",
   "name": "python",
   "nbconvert_exporter": "python",
   "pygments_lexer": "ipython3",
   "version": "3.8.1-final"
  }
 },
 "nbformat": 4,
 "nbformat_minor": 4
}